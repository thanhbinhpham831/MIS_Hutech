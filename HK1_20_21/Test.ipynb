{
 "cells": [
  {
   "cell_type": "markdown",
   "metadata": {},
   "source": [
    "# Số liệu các cuộc gọi phàn nàn về tiếng ồn tại thành phố New York từ 31/12/2015 đến 1/1/2017\n",
    "\n",
    "Created_Date: Thời điểm xuất hiện cuộc gọi đến cảnh sát.  \n",
    "Closed_Date: Thời điểm cảnh sát giải quyết xong vụ việc.  \n",
    "Location_Type: Kiểu địa điểm của nơi bị tố cáo (vd quán bar, cửa hàng, nhà dân, v.v.)  \n",
    "Incident_Zip: Mã bưu chính.  \n",
    "Neighborhood: Khu vực.  \n",
    "Borough: Quận.  \n",
    "Latitude: Vĩ độ.  \n",
    "Longitude: Kinh độ.\n",
    "\n",
    "Đọc data từ https://raw.githubusercontent.com/vb-ym/MIS_Hutech/master/Data/party_in_nyc.csv  \n",
    "Lưu ý xử lý giá trị nan."
   ]
  },
  {
   "cell_type": "code",
   "execution_count": null,
   "metadata": {},
   "outputs": [],
   "source": []
  },
  {
   "cell_type": "markdown",
   "metadata": {},
   "source": [
    "Câu 1: Thành phố New York có bao nhiêu quận (Borough)? Quận Queens có bao nhiêu khu (Neighborhood)?"
   ]
  },
  {
   "cell_type": "code",
   "execution_count": null,
   "metadata": {},
   "outputs": [],
   "source": []
  },
  {
   "cell_type": "markdown",
   "metadata": {},
   "source": [
    "Câu 2: Chuyển đổi các cột thời gian về dạng datetime. Ngày nào là ngày có nhiều cuộc gọi nhất?"
   ]
  },
  {
   "cell_type": "code",
   "execution_count": null,
   "metadata": {},
   "outputs": [],
   "source": []
  },
  {
   "cell_type": "markdown",
   "metadata": {},
   "source": [
    "Câu 3: Tính số lượng cuộc gọi ở mỗi quận. Quận nào là quận có nhiều cuộc gọi nhất?"
   ]
  },
  {
   "cell_type": "code",
   "execution_count": null,
   "metadata": {},
   "outputs": [],
   "source": []
  },
  {
   "cell_type": "markdown",
   "metadata": {},
   "source": [
    "Câu 4: Liệt kê các mã bưu chính (Incident_Zip) trong data. Mã buu chính nào có nhiều cuộc gọi nhất? Lưu ý đổi mã bưu chính về dạng phù hợp (int)."
   ]
  },
  {
   "cell_type": "code",
   "execution_count": null,
   "metadata": {},
   "outputs": [],
   "source": []
  },
  {
   "cell_type": "markdown",
   "metadata": {},
   "source": [
    "Câu 5: Tạo một cột mới mang tên \"Reaction_Time\", có nghĩa là thời gian phản ứng của cảnh sát (từ lúc có cuộc gọi đến lúc vụ việc được giải quyết).  \n",
    "Thời gian phản ứng trung bình của cảnh sát trong cả bộ dữ liệu là bao lâu?  \n",
    "Truy xuất thông tin cuộc gọi nhận được phản ứng nhanh nhất."
   ]
  },
  {
   "cell_type": "code",
   "execution_count": null,
   "metadata": {},
   "outputs": [],
   "source": []
  },
  {
   "cell_type": "markdown",
   "metadata": {},
   "source": [
    "Câu 6: Có bao nhiêu kiểu địa điểm (location type) trong dữ liệu? Kiểu địa điểm nào xuất hiện ít nhất trong các cuộc gọi?"
   ]
  },
  {
   "cell_type": "code",
   "execution_count": null,
   "metadata": {},
   "outputs": [],
   "source": []
  },
  {
   "cell_type": "markdown",
   "metadata": {},
   "source": [
    "Câu 7: Tính thời gian phản ứng trung bình của cảnh sát cho mỗi kiểu địa điểm.  \n",
    "Kiểu địa điểm nào thường nhận được phản ứng nhanh nhất từ cảnh sát?"
   ]
  },
  {
   "cell_type": "code",
   "execution_count": null,
   "metadata": {},
   "outputs": [],
   "source": []
  },
  {
   "cell_type": "markdown",
   "metadata": {},
   "source": [
    "Câu 8: Quận nào có nhiều cuộc gọi đến từ kiểu địa điểm \"Residential Building/House\" nhất?  \n",
    "Đếm số cuộc gọi của các kiểu địa điểm ở quận đó (vd 1000 cuộc gọi từ Residential Building/House, 1200 từ Store/Commercial)."
   ]
  },
  {
   "cell_type": "code",
   "execution_count": null,
   "metadata": {},
   "outputs": [],
   "source": []
  }
 ],
 "metadata": {
  "kernelspec": {
   "display_name": "Python 3",
   "language": "python",
   "name": "python3"
  },
  "language_info": {
   "codemirror_mode": {
    "name": "ipython",
    "version": 3
   },
   "file_extension": ".py",
   "mimetype": "text/x-python",
   "name": "python",
   "nbconvert_exporter": "python",
   "pygments_lexer": "ipython3",
   "version": "3.7.6"
  }
 },
 "nbformat": 4,
 "nbformat_minor": 4
}
