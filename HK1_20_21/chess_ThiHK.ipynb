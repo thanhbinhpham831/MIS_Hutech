{
 "cells": [
  {
   "cell_type": "markdown",
   "metadata": {
    "id": "ooOpH2YYUlMA"
   },
   "source": [
    "# Giới thiệu\n",
    "Trong bài thực hành này, chúng ta sẽ thực hành trên dữ liệu về các trận đấu cờ vua. Dữ liệu bao gồm các cột:\n",
    "* `id`: mã trận đấu.\n",
    "* `turns`: số lượt.\n",
    "* `victory_status`: trạng thái trận đấu, bao gồm: **`outoftime`** (hết giờ), **`mate`** (chiếu bí), **`resign`** (đầu hàng) và **`draw`** (hòa).\n",
    "* `winner`: bên thắng, bao gồm **`white`** (bên trắng), **`black`** (bên đen) và **`draw`** (hòa).\n",
    "* `white_rating`: hệ số elo (cách xếp hạng của cờ vua) của bên trắng.\n",
    "* `black_rating`: hệ số elo của bên đen.\n",
    "* `opening_name`: tên nước khai cuộc được sử dụng trong trận đấu.\n",
    "\n",
    "Dữ liệu được lưu trong [`chess.csv`](https://raw.githubusercontent.com/Levytan/mis_hutech/master/data/chess.csv)."
   ]
  },
  {
   "cell_type": "markdown",
   "metadata": {
    "id": "CxaH3PD0WWhE"
   },
   "source": [
    "# Bài tập"
   ]
  },
  {
   "cell_type": "markdown",
   "metadata": {
    "id": "Y1xrb8KeWZCu"
   },
   "source": [
    "**Câu 1** (1 điểm): Đọc dữ liệu vào `DataFrame`."
   ]
  },
  {
   "cell_type": "code",
   "execution_count": null,
   "metadata": {
    "id": "IDBJkPNhUha7"
   },
   "outputs": [],
   "source": []
  },
  {
   "cell_type": "markdown",
   "metadata": {
    "id": "VdbipP_HWjN5"
   },
   "source": [
    "**Lưu ý**:\n",
    "* **Không** cần trả lời toàn bộ các câu hỏi trong mỗi phần.\n",
    "* Điểm số nhận được trong mỗi phần **không vượt quá** điểm số được quy định trước của phần đó."
   ]
  },
  {
   "cell_type": "markdown",
   "metadata": {
    "id": "eMqDkDpcXohJ"
   },
   "source": [
    "## Phần 1\n",
    "Điểm tối đa nhận được là **03 (ba) điểm**.\n",
    "\n",
    "Sinh viên trả lời các câu sau, mỗi câu có giá trị **01 (một) điểm**.\n",
    "1. Có bao nhiêu trận đấu trong bộ dữ liệu trên?\n",
    "2. Có bao nhiêu trận đấu mà bên trắng thắng?\n",
    "3. Có bao nhiêu trận đấu mà bên đen đầu hàng?\n",
    "4. Có bao nhiêu nước khai cuộc khác nhau?\n",
    "5. Có bao nhiêu trận đấu mà bên đen chiếu bí?\n",
    "6. Có bao nhiêu trận đấu mà bên trắng thắng với elo thấp hơn đối thủ?"
   ]
  },
  {
   "cell_type": "markdown",
   "metadata": {
    "id": "xCpAJqNsaKVO"
   },
   "source": [
    "## Phần 2\n",
    "Điểm tối đa nhận được là **04 (bốn) điểm**.\n",
    "\n",
    "Sinh viên trả lời các câu sau, mỗi câu có giá trị **01 (một) điểm**.\n",
    "1. Tính elo trung bình của bên trắng trong các trận đấu hòa.\n",
    "2. Tính elo trung bình của bên đen trong các trận đấu chiếu bí bên trắng.\n",
    "3. Tính tỷ lệ thắng của mỗi bên.\n",
    "4. Tính tỷ lệ thắng của bên trắng trong các trận đấu mà elo của một trong hai bên ít nhất là 1500.\n",
    "5. Tính tỷ lệ thắng của những trận mà elo của bên thắng thấp hơn elo của đối thủ.\n",
    "6. Tìm nước khai cuộc mà bên trắng có tỷ lệ thắng cao nhất.\n",
    "7. Tìm nước khai cuộc được sử dụng thường xuyên nhất trong các trận đấu mà có một bên đầu hàng.\n",
    "8. Tìm nước khai cuộc ít được sử dụng nhất trong các trận đấu mà elo của hai bên đều nhỏ hơn 1500.\n",
    "9. Tìm nước khai cuộc xuất hiện nhiều nhất trong các trận đấu hòa.\n",
    "10. Tính số lượt trung bình nhóm theo trạng thái.\n",
    "11. Tính số lượt trung bình các trận đấu mà bên trắng đầu hàng.\n",
    "12. Tính số lượt trung bình trong các trận đấu mà cả hai bên có elo lớn hơn 1500.\n",
    "13. Tính số lượt trung bình trong của các trận đấu sử dụng nước khai cuộc phổ biến nhất."
   ]
  },
  {
   "cell_type": "markdown",
   "metadata": {
    "id": "YaZ8C3cMea2C"
   },
   "source": [
    "# Phần 3\n",
    "Điểm tối đa nhận được là **02 (hai) điểm**.\n",
    "\n",
    "Sinh viên trả lời các câu sau, mỗi câu có giá trị **01 (một) điểm**.\n",
    "1. Vẽ histogram cho elo của mỗi bên.\n",
    "2. Vẽ box plot cho số lượt.\n",
    "3. Vẽ barplot cho số trận tương ứng với từng trạng thái của ván đấu."
   ]
  },
  {
   "cell_type": "code",
   "execution_count": null,
   "metadata": {
    "id": "8TclqfN1XYiS"
   },
   "outputs": [],
   "source": []
  }
 ],
 "metadata": {
  "colab": {
   "collapsed_sections": [],
   "name": "chess",
   "provenance": []
  },
  "kernelspec": {
   "display_name": "Python 3",
   "language": "python",
   "name": "python3"
  },
  "language_info": {
   "codemirror_mode": {
    "name": "ipython",
    "version": 3
   },
   "file_extension": ".py",
   "mimetype": "text/x-python",
   "name": "python",
   "nbconvert_exporter": "python",
   "pygments_lexer": "ipython3",
   "version": "3.7.6"
  }
 },
 "nbformat": 4,
 "nbformat_minor": 1
}
