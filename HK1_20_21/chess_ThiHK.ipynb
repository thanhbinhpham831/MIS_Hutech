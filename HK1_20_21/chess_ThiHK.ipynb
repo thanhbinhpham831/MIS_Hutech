{
  "nbformat": 4,
  "nbformat_minor": 0,
  "metadata": {
    "colab": {
      "name": "chess",
      "provenance": [],
      "collapsed_sections": []
    },
    "kernelspec": {
      "name": "python3",
      "display_name": "Python 3"
    }
  },
  "cells": [
    {
      "cell_type": "markdown",
      "metadata": {
        "id": "ooOpH2YYUlMA"
      },
      "source": [
        "# Giới thiệu\r\n",
        "Trong bài thực hành này, chúng ta sẽ thực hành trên dữ liệu về các trận đấu cờ vua. Dữ liệu bao gồm các cột:\r\n",
        "* `id`: mã trận đấu.\r\n",
        "* `turns`: số lượt.\r\n",
        "* `victory_status`: trạng thái trận đấu, bao gồm: **`outoftime`** (hết giờ), **`mate`** (chiếu bí), **`resign`** (đầu hàng) và **`draw`** (hòa).\r\n",
        "* `winner`: bên thắng, bao gồm **`white`** (bên trắng), **`black`** (bên đen) và **`draw`** (hòa).\r\n",
        "* `white_rating`: hệ số elo (cách xếp hạng của cờ vua) của bên trắng.\r\n",
        "* `black_rating`: hệ số elo của bên đen.\r\n",
        "* `opening_name`: tên nước khai cuộc được sử dụng trong trận đấu.\r\n",
        "\r\n",
        "Dữ liệu được lưu trong [`chess.csv`](https://raw.githubusercontent.com/Levytan/mis_hutech/master/data/chess.csv)."
      ]
    },
    {
      "cell_type": "markdown",
      "metadata": {
        "id": "CxaH3PD0WWhE"
      },
      "source": [
        "# Bài tập"
      ]
    },
    {
      "cell_type": "markdown",
      "metadata": {
        "id": "Y1xrb8KeWZCu"
      },
      "source": [
        "**Câu 1** (1 điểm): Đọc dữ liệu vào `DataFrame`."
      ]
    },
    {
      "cell_type": "code",
      "metadata": {
        "id": "IDBJkPNhUha7"
      },
      "source": [
        ""
      ],
      "execution_count": null,
      "outputs": []
    },
    {
      "cell_type": "markdown",
      "metadata": {
        "id": "VdbipP_HWjN5"
      },
      "source": [
        "**Lưu ý**:\r\n",
        "* **Không** cần trả lời toàn bộ các câu hỏi trong mỗi phần.\r\n",
        "* Điểm số nhận được trong mỗi phần **không vượt quá** điểm số được quy định trước của phần đó."
      ]
    },
    {
      "cell_type": "markdown",
      "metadata": {
        "id": "eMqDkDpcXohJ"
      },
      "source": [
        "## Phần 1\r\n",
        "Điểm tối đa nhận được là **03 (ba) điểm**.\r\n",
        "\r\n",
        "Sinh viên trả lời các câu sau, mỗi câu có giá trị **01 (một) điểm**.\r\n",
        "1. Có bao nhiêu trận đấu trong bộ dữ liệu trên?\r\n",
        "2. Có bao nhiêu trận đấu mà bên trắng thắng?\r\n",
        "3. Có bao nhiêu trận đấu mà bên đen đầu hàng?\r\n",
        "4. Có bao nhiêu nước khai cuộc khác nhau?\r\n",
        "5. Có bao nhiêu trận đấu mà bên đen chiếu bí?\r\n",
        "6. Có bao nhiêu trận đấu mà bên trắng thắng với elo thấp hơn đối thủ?"
      ]
    },
    {
      "cell_type": "markdown",
      "metadata": {
        "id": "xCpAJqNsaKVO"
      },
      "source": [
        "## Phần 2\r\n",
        "Điểm tối đa nhận được là **04 (bốn) điểm**.\r\n",
        "\r\n",
        "Sinh viên trả lời các câu sau, mỗi câu có giá trị **01 (một) điểm**.\r\n",
        "1. Tính elo trung bình của bên trắng trong các trận đấu hòa.\r\n",
        "2. Tính elo trung bình của bên đen trong các trận đấu chiếu bí bên trắng.\r\n",
        "3. Tính tỷ lệ thắng của mỗi bên.\r\n",
        "4. Tính tỷ lệ thắng của bên trắng trong các trận đấu mà elo của một trong hai bên ít nhất là 1500.\r\n",
        "5. Tính tỷ lệ thắng của những trận mà elo của bên thắng thấp hơn elo của đối thủ.\r\n",
        "6. Tìm nước khai cuộc mà bên trắng có tỷ lệ thắng cao nhất.\r\n",
        "7. Tìm nước khai cuộc được sử dụng thường xuyên nhất trong các trận đấu mà có một bên đầu hàng.\r\n",
        "8. Tìm nước khai cuộc ít được sử dụng nhất trong các trận đấu mà elo của hai bên đều nhỏ hơn 1500.\r\n",
        "9. Tìm nước khai cuộc xuất hiện nhiều nhất trong các trận đấu hòa.\r\n",
        "10. Tính số lượt trung bình nhóm theo trạng thái.\r\n",
        "11. Tính số lượt trung bình các trận đấu mà bên trắng đầu hàng.\r\n",
        "12. Tính số lượt trung bình trong các trận đấu mà cả hai bên có elo lớn hơn 1500.\r\n",
        "13. Tính số lượt trung bình trong của các trận đấu sử dụng nước khai cuộc phổ biến nhất."
      ]
    },
    {
      "cell_type": "markdown",
      "metadata": {
        "id": "YaZ8C3cMea2C"
      },
      "source": [
        "# Phần 3\r\n",
        "Điểm tối đa nhận được là **02 (hai) điểm**.\r\n",
        "\r\n",
        "Sinh viên trả lời các câu sau, mỗi câu có giá trị **01 (một) điểm**.\r\n",
        "1. Vẽ histogram cho elo của mỗi bên.\r\n",
        "2. Vẽ box plot cho số lượt.\r\n",
        "3. Vẽ barplot cho số trận tương ứng với từng trạng thái của ván đấu."
      ]
    },
    {
      "cell_type": "code",
      "metadata": {
        "id": "8TclqfN1XYiS"
      },
      "source": [
        ""
      ],
      "execution_count": null,
      "outputs": []
    }
  ]
}