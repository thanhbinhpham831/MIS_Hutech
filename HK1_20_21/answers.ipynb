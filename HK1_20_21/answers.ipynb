{
 "cells": [
  {
   "cell_type": "markdown",
   "metadata": {},
   "source": [
    "# Số liệu các cuộc gọi phàn nàn về tiếng ồn tại thành phố New York từ 31/12/2015 đến 1/1/2017\n",
    "\n",
    "Created_Date: Thời điểm xuất hiện cuộc gọi.  \n",
    "Closed_Date: Thời điểm cảnh sát giải quyết xong vụ việc.  \n",
    "Location_Type: Kiểu địa điểm của nơi bị tố cáo (vd quán bar, cửa hàng, nhà dân, v.v.)  \n",
    "Incident_Zip: Mã bưu chính.  \n",
    "Neighborhood: Khu vực.  \n",
    "Borough: Quận.  \n",
    "Latitude: Vĩ độ.  \n",
    "Longitude: Kinh độ.\n",
    "\n",
    "Đọc data từ https://raw.githubusercontent.com/vb-ym/MIS_Hutech/master/Data/party_in_nyc.csv  \n",
    "Lưu ý xử lý giá trị nan."
   ]
  },
  {
   "cell_type": "code",
   "execution_count": 1,
   "metadata": {
    "scrolled": true
   },
   "outputs": [],
   "source": [
    "import pandas as pd\n",
    "\n",
    "#data = pd.read_csv('https://raw.githubusercontent.com/vb-ym/MIS_Hutech/master/Data/party_in_nyc.csv')\n",
    "data = pd.read_csv('../Data/party_in_nyc.csv')"
   ]
  },
  {
   "cell_type": "code",
   "execution_count": 2,
   "metadata": {},
   "outputs": [
    {
     "data": {
      "text/html": [
       "<div>\n",
       "<style scoped>\n",
       "    .dataframe tbody tr th:only-of-type {\n",
       "        vertical-align: middle;\n",
       "    }\n",
       "\n",
       "    .dataframe tbody tr th {\n",
       "        vertical-align: top;\n",
       "    }\n",
       "\n",
       "    .dataframe thead th {\n",
       "        text-align: right;\n",
       "    }\n",
       "</style>\n",
       "<table border=\"1\" class=\"dataframe\">\n",
       "  <thead>\n",
       "    <tr style=\"text-align: right;\">\n",
       "      <th></th>\n",
       "      <th>Created_Date</th>\n",
       "      <th>Closed_Date</th>\n",
       "      <th>Location_Type</th>\n",
       "      <th>Incident_Zip</th>\n",
       "      <th>Neighborhood</th>\n",
       "      <th>Borough</th>\n",
       "      <th>Latitude</th>\n",
       "      <th>Longitude</th>\n",
       "    </tr>\n",
       "  </thead>\n",
       "  <tbody>\n",
       "    <tr>\n",
       "      <th>0</th>\n",
       "      <td>2015-12-31 00:01:15</td>\n",
       "      <td>2015-12-31 03:48:04</td>\n",
       "      <td>Store/Commercial</td>\n",
       "      <td>10034.0</td>\n",
       "      <td>NEW YORK</td>\n",
       "      <td>MANHATTAN</td>\n",
       "      <td>40.866183</td>\n",
       "      <td>-73.918930</td>\n",
       "    </tr>\n",
       "    <tr>\n",
       "      <th>1</th>\n",
       "      <td>2015-12-31 00:02:48</td>\n",
       "      <td>2015-12-31 04:36:13</td>\n",
       "      <td>Store/Commercial</td>\n",
       "      <td>10040.0</td>\n",
       "      <td>NEW YORK</td>\n",
       "      <td>MANHATTAN</td>\n",
       "      <td>40.859324</td>\n",
       "      <td>-73.931237</td>\n",
       "    </tr>\n",
       "    <tr>\n",
       "      <th>2</th>\n",
       "      <td>2015-12-31 00:03:25</td>\n",
       "      <td>2015-12-31 00:40:15</td>\n",
       "      <td>Residential Building/House</td>\n",
       "      <td>10026.0</td>\n",
       "      <td>NEW YORK</td>\n",
       "      <td>MANHATTAN</td>\n",
       "      <td>40.799415</td>\n",
       "      <td>-73.953371</td>\n",
       "    </tr>\n",
       "    <tr>\n",
       "      <th>3</th>\n",
       "      <td>2015-12-31 00:03:26</td>\n",
       "      <td>2015-12-31 01:53:38</td>\n",
       "      <td>Residential Building/House</td>\n",
       "      <td>11231.0</td>\n",
       "      <td>BROOKLYN</td>\n",
       "      <td>BROOKLYN</td>\n",
       "      <td>40.678285</td>\n",
       "      <td>-73.994668</td>\n",
       "    </tr>\n",
       "    <tr>\n",
       "      <th>4</th>\n",
       "      <td>2015-12-31 00:05:10</td>\n",
       "      <td>2015-12-31 03:49:10</td>\n",
       "      <td>Residential Building/House</td>\n",
       "      <td>10033.0</td>\n",
       "      <td>NEW YORK</td>\n",
       "      <td>MANHATTAN</td>\n",
       "      <td>40.850304</td>\n",
       "      <td>-73.938516</td>\n",
       "    </tr>\n",
       "    <tr>\n",
       "      <th>...</th>\n",
       "      <td>...</td>\n",
       "      <td>...</td>\n",
       "      <td>...</td>\n",
       "      <td>...</td>\n",
       "      <td>...</td>\n",
       "      <td>...</td>\n",
       "      <td>...</td>\n",
       "      <td>...</td>\n",
       "    </tr>\n",
       "    <tr>\n",
       "      <th>225409</th>\n",
       "      <td>2016-12-31 23:53:57</td>\n",
       "      <td>2017-01-01 00:01:41</td>\n",
       "      <td>Store/Commercial</td>\n",
       "      <td>10003.0</td>\n",
       "      <td>NEW YORK</td>\n",
       "      <td>MANHATTAN</td>\n",
       "      <td>40.730073</td>\n",
       "      <td>-73.986585</td>\n",
       "    </tr>\n",
       "    <tr>\n",
       "      <th>225410</th>\n",
       "      <td>2016-12-31 23:55:01</td>\n",
       "      <td>2017-01-01 02:05:06</td>\n",
       "      <td>Residential Building/House</td>\n",
       "      <td>10032.0</td>\n",
       "      <td>NEW YORK</td>\n",
       "      <td>MANHATTAN</td>\n",
       "      <td>40.833144</td>\n",
       "      <td>-73.944617</td>\n",
       "    </tr>\n",
       "    <tr>\n",
       "      <th>225411</th>\n",
       "      <td>2016-12-31 23:56:20</td>\n",
       "      <td>2017-01-01 13:34:00</td>\n",
       "      <td>Residential Building/House</td>\n",
       "      <td>11104.0</td>\n",
       "      <td>SUNNYSIDE</td>\n",
       "      <td>QUEENS</td>\n",
       "      <td>40.743662</td>\n",
       "      <td>-73.923067</td>\n",
       "    </tr>\n",
       "    <tr>\n",
       "      <th>225412</th>\n",
       "      <td>2016-12-31 23:56:41</td>\n",
       "      <td>2017-01-01 03:49:12</td>\n",
       "      <td>Residential Building/House</td>\n",
       "      <td>10040.0</td>\n",
       "      <td>NEW YORK</td>\n",
       "      <td>MANHATTAN</td>\n",
       "      <td>40.858447</td>\n",
       "      <td>-73.929279</td>\n",
       "    </tr>\n",
       "    <tr>\n",
       "      <th>225413</th>\n",
       "      <td>2016-12-31 23:58:52</td>\n",
       "      <td>2017-01-01 00:59:52</td>\n",
       "      <td>Residential Building/House</td>\n",
       "      <td>10463.0</td>\n",
       "      <td>BRONX</td>\n",
       "      <td>BRONX</td>\n",
       "      <td>40.877450</td>\n",
       "      <td>-73.910498</td>\n",
       "    </tr>\n",
       "  </tbody>\n",
       "</table>\n",
       "<p>223861 rows × 8 columns</p>\n",
       "</div>"
      ],
      "text/plain": [
       "               Created_Date          Closed_Date               Location_Type  \\\n",
       "0       2015-12-31 00:01:15  2015-12-31 03:48:04            Store/Commercial   \n",
       "1       2015-12-31 00:02:48  2015-12-31 04:36:13            Store/Commercial   \n",
       "2       2015-12-31 00:03:25  2015-12-31 00:40:15  Residential Building/House   \n",
       "3       2015-12-31 00:03:26  2015-12-31 01:53:38  Residential Building/House   \n",
       "4       2015-12-31 00:05:10  2015-12-31 03:49:10  Residential Building/House   \n",
       "...                     ...                  ...                         ...   \n",
       "225409  2016-12-31 23:53:57  2017-01-01 00:01:41            Store/Commercial   \n",
       "225410  2016-12-31 23:55:01  2017-01-01 02:05:06  Residential Building/House   \n",
       "225411  2016-12-31 23:56:20  2017-01-01 13:34:00  Residential Building/House   \n",
       "225412  2016-12-31 23:56:41  2017-01-01 03:49:12  Residential Building/House   \n",
       "225413  2016-12-31 23:58:52  2017-01-01 00:59:52  Residential Building/House   \n",
       "\n",
       "        Incident_Zip Neighborhood    Borough   Latitude  Longitude  \n",
       "0            10034.0     NEW YORK  MANHATTAN  40.866183 -73.918930  \n",
       "1            10040.0     NEW YORK  MANHATTAN  40.859324 -73.931237  \n",
       "2            10026.0     NEW YORK  MANHATTAN  40.799415 -73.953371  \n",
       "3            11231.0     BROOKLYN   BROOKLYN  40.678285 -73.994668  \n",
       "4            10033.0     NEW YORK  MANHATTAN  40.850304 -73.938516  \n",
       "...              ...          ...        ...        ...        ...  \n",
       "225409       10003.0     NEW YORK  MANHATTAN  40.730073 -73.986585  \n",
       "225410       10032.0     NEW YORK  MANHATTAN  40.833144 -73.944617  \n",
       "225411       11104.0    SUNNYSIDE     QUEENS  40.743662 -73.923067  \n",
       "225412       10040.0     NEW YORK  MANHATTAN  40.858447 -73.929279  \n",
       "225413       10463.0        BRONX      BRONX  40.877450 -73.910498  \n",
       "\n",
       "[223861 rows x 8 columns]"
      ]
     },
     "execution_count": 2,
     "metadata": {},
     "output_type": "execute_result"
    }
   ],
   "source": [
    "data = data.dropna()\n",
    "data"
   ]
  },
  {
   "cell_type": "code",
   "execution_count": 3,
   "metadata": {},
   "outputs": [
    {
     "data": {
      "text/plain": [
       "Created_Date      object\n",
       "Closed_Date       object\n",
       "Location_Type     object\n",
       "Incident_Zip     float64\n",
       "Neighborhood      object\n",
       "Borough           object\n",
       "Latitude         float64\n",
       "Longitude        float64\n",
       "dtype: object"
      ]
     },
     "execution_count": 3,
     "metadata": {},
     "output_type": "execute_result"
    }
   ],
   "source": [
    "data.dtypes"
   ]
  },
  {
   "cell_type": "markdown",
   "metadata": {},
   "source": [
    "Câu 1: Thành phố New York có bao nhiêu quận (Borough)? Quận Queens có bao nhiêu khu (Neighborhood)?"
   ]
  },
  {
   "cell_type": "code",
   "execution_count": 4,
   "metadata": {},
   "outputs": [
    {
     "data": {
      "text/plain": [
       "5"
      ]
     },
     "execution_count": 4,
     "metadata": {},
     "output_type": "execute_result"
    }
   ],
   "source": [
    "data.Borough.nunique()"
   ]
  },
  {
   "cell_type": "code",
   "execution_count": 5,
   "metadata": {},
   "outputs": [
    {
     "data": {
      "text/plain": [
       "44"
      ]
     },
     "execution_count": 5,
     "metadata": {},
     "output_type": "execute_result"
    }
   ],
   "source": [
    "data[data.Borough == 'QUEENS'].Neighborhood.nunique()"
   ]
  },
  {
   "cell_type": "markdown",
   "metadata": {},
   "source": [
    "Câu 2: Chuyển đổi các cột thời gian về dạng datetime. Ngày nào là ngày có nhiều cuộc gọi nhất?"
   ]
  },
  {
   "cell_type": "code",
   "execution_count": 6,
   "metadata": {},
   "outputs": [],
   "source": [
    "data = data.assign(Created_Date = pd.to_datetime(data.Created_Date))\n",
    "data = data.assign(Closed_Date = pd.to_datetime(data.Closed_Date))"
   ]
  },
  {
   "cell_type": "code",
   "execution_count": 7,
   "metadata": {},
   "outputs": [
    {
     "data": {
      "text/plain": [
       "Created_Date     datetime64[ns]\n",
       "Closed_Date      datetime64[ns]\n",
       "Location_Type            object\n",
       "Incident_Zip            float64\n",
       "Neighborhood             object\n",
       "Borough                  object\n",
       "Latitude                float64\n",
       "Longitude               float64\n",
       "dtype: object"
      ]
     },
     "execution_count": 7,
     "metadata": {},
     "output_type": "execute_result"
    }
   ],
   "source": [
    "data.dtypes"
   ]
  },
  {
   "cell_type": "code",
   "execution_count": 8,
   "metadata": {},
   "outputs": [
    {
     "data": {
      "text/plain": [
       "Created_Date\n",
       "2016-06-19    2528\n",
       "2016-07-03    2321\n",
       "2016-09-04    2311\n",
       "2016-05-29    2160\n",
       "2016-06-18    2106\n",
       "              ... \n",
       "2016-02-23     178\n",
       "2016-01-13     164\n",
       "2016-01-19     162\n",
       "2016-02-09     160\n",
       "2016-02-11     141\n",
       "Name: Created_Date, Length: 367, dtype: int64"
      ]
     },
     "execution_count": 8,
     "metadata": {},
     "output_type": "execute_result"
    }
   ],
   "source": [
    "num_calls = data.groupby(data.Created_Date.dt.date).count().Created_Date\n",
    "num_calls.sort_values(ascending=False)#.head(1)"
   ]
  },
  {
   "cell_type": "markdown",
   "metadata": {},
   "source": [
    "Câu 3: Tính số lượng cuộc gọi ở mỗi quận. Quận nào là quận có nhiều cuộc gọi nhất? "
   ]
  },
  {
   "cell_type": "code",
   "execution_count": 9,
   "metadata": {},
   "outputs": [
    {
     "data": {
      "text/plain": [
       "Borough\n",
       "BROOKLYN         68757\n",
       "MANHATTAN        63883\n",
       "BRONX            47595\n",
       "QUEENS           38224\n",
       "STATEN ISLAND     5402\n",
       "Name: Created_Date, dtype: int64"
      ]
     },
     "execution_count": 9,
     "metadata": {},
     "output_type": "execute_result"
    }
   ],
   "source": [
    "data.groupby('Borough').count().Created_Date.sort_values(ascending=False)#.head(1)"
   ]
  },
  {
   "cell_type": "markdown",
   "metadata": {},
   "source": [
    "Câu 4: Liệt kê các mã bưu chính (Incident_Zip) trong data. Mã buu chính nào có nhiều cuộc gọi nhất? Lưu ý đổi data về dạng phù hợp (int)."
   ]
  },
  {
   "cell_type": "code",
   "execution_count": 10,
   "metadata": {},
   "outputs": [
    {
     "data": {
      "text/plain": [
       "array([10034, 10040, 10026, 11231, 10033, 10467, 11230, 11215, 10463,\n",
       "       11372, 11213, 11375, 10027, 10468, 11417, 11233, 11217, 11355,\n",
       "       11234, 10452, 10025, 11103, 10458, 10021, 11238, 10065, 10019,\n",
       "       10036, 10028, 10460, 10473, 11102, 11368, 10472, 11209, 10456,\n",
       "       11435, 11691, 10455, 10453, 10024, 10009, 10011, 10032, 10016,\n",
       "       10459, 11237, 11221, 11385, 10001, 10469, 10451, 11433, 10461,\n",
       "       11207, 10031, 11208, 10314, 10002, 10039, 10457, 11226, 11210,\n",
       "       10471, 11232, 11249, 10465, 10030, 10301, 11218, 10029, 10012,\n",
       "       11415, 11360, 11214, 11365, 11225, 11224, 11236, 11206, 10014,\n",
       "       11201, 10454, 10306, 11212, 10005, 10466, 11203, 10462, 11223,\n",
       "       11421, 11420, 11369, 11205, 10035, 11101, 11370, 10310, 11228,\n",
       "       10303, 11216, 10470, 10022, 11427, 11104, 11211, 11412, 11377,\n",
       "       10304, 10302, 11414, 11367, 10017, 11366, 11105, 10003, 11694,\n",
       "       10308, 11363, 11692, 11416, 11373, 11419, 11229, 11361, 11222,\n",
       "       10007, 11379, 10128, 11219, 11364, 11356, 11432, 11378, 11106,\n",
       "       11235, 11358, 10474, 11374, 11418, 10013, 11220, 11436, 11354,\n",
       "       10023, 11423, 10305, 10018, 11434, 11413, 11428, 10037, 10307,\n",
       "       10309, 11411, 10038, 11204, 10464, 11362, 11693, 10010, 11004,\n",
       "       11357, 11429, 10075, 10312, 10069, 11426, 10282, 10044, 10103,\n",
       "       10475, 10280, 10020, 10006, 11422, 11239, 10000, 11040, 10004,\n",
       "          83, 11109, 11430, 10281, 11001, 10041, 11697, 10121, 10118,\n",
       "       10177, 10119, 10120, 11242, 10278])"
      ]
     },
     "execution_count": 10,
     "metadata": {},
     "output_type": "execute_result"
    }
   ],
   "source": [
    "data = data.assign(Incident_Zip = data.Incident_Zip.astype(int))\n",
    "data.Incident_Zip.unique()"
   ]
  },
  {
   "cell_type": "code",
   "execution_count": 11,
   "metadata": {},
   "outputs": [
    {
     "data": {
      "text/plain": [
       "Incident_Zip\n",
       "10040    5042\n",
       "10031    4908\n",
       "10456    4688\n",
       "11226    4433\n",
       "10034    4408\n",
       "         ... \n",
       "10041       1\n",
       "10177       1\n",
       "10120       1\n",
       "10103       1\n",
       "11697       1\n",
       "Name: Created_Date, Length: 194, dtype: int64"
      ]
     },
     "execution_count": 11,
     "metadata": {},
     "output_type": "execute_result"
    }
   ],
   "source": [
    "data.groupby('Incident_Zip').count().Created_Date.sort_values(ascending=False)#.head(1)"
   ]
  },
  {
   "cell_type": "markdown",
   "metadata": {},
   "source": [
    "Câu 5: Tạo một cột mới mang tên \"Reaction_Time\", có nghĩa là thời gian phản ứng của cảnh sát (từ lúc có cuộc gọi đến lúc vụ việc được giải quyết).  \n",
    "Thời gian phản ứng trung bình của cảnh sát trong cả bộ dữ liệu là bao lâu?  \n",
    "Truy xuất thông tin cuộc gọi nhận được phản ứng nhanh nhất."
   ]
  },
  {
   "cell_type": "code",
   "execution_count": 12,
   "metadata": {},
   "outputs": [
    {
     "data": {
      "text/html": [
       "<div>\n",
       "<style scoped>\n",
       "    .dataframe tbody tr th:only-of-type {\n",
       "        vertical-align: middle;\n",
       "    }\n",
       "\n",
       "    .dataframe tbody tr th {\n",
       "        vertical-align: top;\n",
       "    }\n",
       "\n",
       "    .dataframe thead th {\n",
       "        text-align: right;\n",
       "    }\n",
       "</style>\n",
       "<table border=\"1\" class=\"dataframe\">\n",
       "  <thead>\n",
       "    <tr style=\"text-align: right;\">\n",
       "      <th></th>\n",
       "      <th>Created_Date</th>\n",
       "      <th>Closed_Date</th>\n",
       "      <th>Location_Type</th>\n",
       "      <th>Incident_Zip</th>\n",
       "      <th>Neighborhood</th>\n",
       "      <th>Borough</th>\n",
       "      <th>Latitude</th>\n",
       "      <th>Longitude</th>\n",
       "      <th>Reaction_Time</th>\n",
       "    </tr>\n",
       "  </thead>\n",
       "  <tbody>\n",
       "    <tr>\n",
       "      <th>0</th>\n",
       "      <td>2015-12-31 00:01:15</td>\n",
       "      <td>2015-12-31 03:48:04</td>\n",
       "      <td>Store/Commercial</td>\n",
       "      <td>10034</td>\n",
       "      <td>NEW YORK</td>\n",
       "      <td>MANHATTAN</td>\n",
       "      <td>40.866183</td>\n",
       "      <td>-73.918930</td>\n",
       "      <td>03:46:49</td>\n",
       "    </tr>\n",
       "    <tr>\n",
       "      <th>1</th>\n",
       "      <td>2015-12-31 00:02:48</td>\n",
       "      <td>2015-12-31 04:36:13</td>\n",
       "      <td>Store/Commercial</td>\n",
       "      <td>10040</td>\n",
       "      <td>NEW YORK</td>\n",
       "      <td>MANHATTAN</td>\n",
       "      <td>40.859324</td>\n",
       "      <td>-73.931237</td>\n",
       "      <td>04:33:25</td>\n",
       "    </tr>\n",
       "    <tr>\n",
       "      <th>2</th>\n",
       "      <td>2015-12-31 00:03:25</td>\n",
       "      <td>2015-12-31 00:40:15</td>\n",
       "      <td>Residential Building/House</td>\n",
       "      <td>10026</td>\n",
       "      <td>NEW YORK</td>\n",
       "      <td>MANHATTAN</td>\n",
       "      <td>40.799415</td>\n",
       "      <td>-73.953371</td>\n",
       "      <td>00:36:50</td>\n",
       "    </tr>\n",
       "    <tr>\n",
       "      <th>3</th>\n",
       "      <td>2015-12-31 00:03:26</td>\n",
       "      <td>2015-12-31 01:53:38</td>\n",
       "      <td>Residential Building/House</td>\n",
       "      <td>11231</td>\n",
       "      <td>BROOKLYN</td>\n",
       "      <td>BROOKLYN</td>\n",
       "      <td>40.678285</td>\n",
       "      <td>-73.994668</td>\n",
       "      <td>01:50:12</td>\n",
       "    </tr>\n",
       "    <tr>\n",
       "      <th>4</th>\n",
       "      <td>2015-12-31 00:05:10</td>\n",
       "      <td>2015-12-31 03:49:10</td>\n",
       "      <td>Residential Building/House</td>\n",
       "      <td>10033</td>\n",
       "      <td>NEW YORK</td>\n",
       "      <td>MANHATTAN</td>\n",
       "      <td>40.850304</td>\n",
       "      <td>-73.938516</td>\n",
       "      <td>03:44:00</td>\n",
       "    </tr>\n",
       "    <tr>\n",
       "      <th>...</th>\n",
       "      <td>...</td>\n",
       "      <td>...</td>\n",
       "      <td>...</td>\n",
       "      <td>...</td>\n",
       "      <td>...</td>\n",
       "      <td>...</td>\n",
       "      <td>...</td>\n",
       "      <td>...</td>\n",
       "      <td>...</td>\n",
       "    </tr>\n",
       "    <tr>\n",
       "      <th>225409</th>\n",
       "      <td>2016-12-31 23:53:57</td>\n",
       "      <td>2017-01-01 00:01:41</td>\n",
       "      <td>Store/Commercial</td>\n",
       "      <td>10003</td>\n",
       "      <td>NEW YORK</td>\n",
       "      <td>MANHATTAN</td>\n",
       "      <td>40.730073</td>\n",
       "      <td>-73.986585</td>\n",
       "      <td>00:07:44</td>\n",
       "    </tr>\n",
       "    <tr>\n",
       "      <th>225410</th>\n",
       "      <td>2016-12-31 23:55:01</td>\n",
       "      <td>2017-01-01 02:05:06</td>\n",
       "      <td>Residential Building/House</td>\n",
       "      <td>10032</td>\n",
       "      <td>NEW YORK</td>\n",
       "      <td>MANHATTAN</td>\n",
       "      <td>40.833144</td>\n",
       "      <td>-73.944617</td>\n",
       "      <td>02:10:05</td>\n",
       "    </tr>\n",
       "    <tr>\n",
       "      <th>225411</th>\n",
       "      <td>2016-12-31 23:56:20</td>\n",
       "      <td>2017-01-01 13:34:00</td>\n",
       "      <td>Residential Building/House</td>\n",
       "      <td>11104</td>\n",
       "      <td>SUNNYSIDE</td>\n",
       "      <td>QUEENS</td>\n",
       "      <td>40.743662</td>\n",
       "      <td>-73.923067</td>\n",
       "      <td>13:37:40</td>\n",
       "    </tr>\n",
       "    <tr>\n",
       "      <th>225412</th>\n",
       "      <td>2016-12-31 23:56:41</td>\n",
       "      <td>2017-01-01 03:49:12</td>\n",
       "      <td>Residential Building/House</td>\n",
       "      <td>10040</td>\n",
       "      <td>NEW YORK</td>\n",
       "      <td>MANHATTAN</td>\n",
       "      <td>40.858447</td>\n",
       "      <td>-73.929279</td>\n",
       "      <td>03:52:31</td>\n",
       "    </tr>\n",
       "    <tr>\n",
       "      <th>225413</th>\n",
       "      <td>2016-12-31 23:58:52</td>\n",
       "      <td>2017-01-01 00:59:52</td>\n",
       "      <td>Residential Building/House</td>\n",
       "      <td>10463</td>\n",
       "      <td>BRONX</td>\n",
       "      <td>BRONX</td>\n",
       "      <td>40.877450</td>\n",
       "      <td>-73.910498</td>\n",
       "      <td>01:01:00</td>\n",
       "    </tr>\n",
       "  </tbody>\n",
       "</table>\n",
       "<p>223861 rows × 9 columns</p>\n",
       "</div>"
      ],
      "text/plain": [
       "              Created_Date         Closed_Date               Location_Type  \\\n",
       "0      2015-12-31 00:01:15 2015-12-31 03:48:04            Store/Commercial   \n",
       "1      2015-12-31 00:02:48 2015-12-31 04:36:13            Store/Commercial   \n",
       "2      2015-12-31 00:03:25 2015-12-31 00:40:15  Residential Building/House   \n",
       "3      2015-12-31 00:03:26 2015-12-31 01:53:38  Residential Building/House   \n",
       "4      2015-12-31 00:05:10 2015-12-31 03:49:10  Residential Building/House   \n",
       "...                    ...                 ...                         ...   \n",
       "225409 2016-12-31 23:53:57 2017-01-01 00:01:41            Store/Commercial   \n",
       "225410 2016-12-31 23:55:01 2017-01-01 02:05:06  Residential Building/House   \n",
       "225411 2016-12-31 23:56:20 2017-01-01 13:34:00  Residential Building/House   \n",
       "225412 2016-12-31 23:56:41 2017-01-01 03:49:12  Residential Building/House   \n",
       "225413 2016-12-31 23:58:52 2017-01-01 00:59:52  Residential Building/House   \n",
       "\n",
       "        Incident_Zip Neighborhood    Borough   Latitude  Longitude  \\\n",
       "0              10034     NEW YORK  MANHATTAN  40.866183 -73.918930   \n",
       "1              10040     NEW YORK  MANHATTAN  40.859324 -73.931237   \n",
       "2              10026     NEW YORK  MANHATTAN  40.799415 -73.953371   \n",
       "3              11231     BROOKLYN   BROOKLYN  40.678285 -73.994668   \n",
       "4              10033     NEW YORK  MANHATTAN  40.850304 -73.938516   \n",
       "...              ...          ...        ...        ...        ...   \n",
       "225409         10003     NEW YORK  MANHATTAN  40.730073 -73.986585   \n",
       "225410         10032     NEW YORK  MANHATTAN  40.833144 -73.944617   \n",
       "225411         11104    SUNNYSIDE     QUEENS  40.743662 -73.923067   \n",
       "225412         10040     NEW YORK  MANHATTAN  40.858447 -73.929279   \n",
       "225413         10463        BRONX      BRONX  40.877450 -73.910498   \n",
       "\n",
       "       Reaction_Time  \n",
       "0           03:46:49  \n",
       "1           04:33:25  \n",
       "2           00:36:50  \n",
       "3           01:50:12  \n",
       "4           03:44:00  \n",
       "...              ...  \n",
       "225409      00:07:44  \n",
       "225410      02:10:05  \n",
       "225411      13:37:40  \n",
       "225412      03:52:31  \n",
       "225413      01:01:00  \n",
       "\n",
       "[223861 rows x 9 columns]"
      ]
     },
     "execution_count": 12,
     "metadata": {},
     "output_type": "execute_result"
    }
   ],
   "source": [
    "data = data.assign(Reaction_Time = data.Closed_Date - data.Created_Date)\n",
    "data"
   ]
  },
  {
   "cell_type": "code",
   "execution_count": 13,
   "metadata": {},
   "outputs": [
    {
     "data": {
      "text/plain": [
       "Timedelta('0 days 04:59:05.044527')"
      ]
     },
     "execution_count": 13,
     "metadata": {},
     "output_type": "execute_result"
    }
   ],
   "source": [
    "data.Reaction_Time.mean()"
   ]
  },
  {
   "cell_type": "code",
   "execution_count": 14,
   "metadata": {},
   "outputs": [
    {
     "data": {
      "text/html": [
       "<div>\n",
       "<style scoped>\n",
       "    .dataframe tbody tr th:only-of-type {\n",
       "        vertical-align: middle;\n",
       "    }\n",
       "\n",
       "    .dataframe tbody tr th {\n",
       "        vertical-align: top;\n",
       "    }\n",
       "\n",
       "    .dataframe thead th {\n",
       "        text-align: right;\n",
       "    }\n",
       "</style>\n",
       "<table border=\"1\" class=\"dataframe\">\n",
       "  <thead>\n",
       "    <tr style=\"text-align: right;\">\n",
       "      <th></th>\n",
       "      <th>Created_Date</th>\n",
       "      <th>Closed_Date</th>\n",
       "      <th>Location_Type</th>\n",
       "      <th>Incident_Zip</th>\n",
       "      <th>Neighborhood</th>\n",
       "      <th>Borough</th>\n",
       "      <th>Latitude</th>\n",
       "      <th>Longitude</th>\n",
       "      <th>Reaction_Time</th>\n",
       "    </tr>\n",
       "  </thead>\n",
       "  <tbody>\n",
       "    <tr>\n",
       "      <th>28022</th>\n",
       "      <td>2016-03-11 23:26:11</td>\n",
       "      <td>2016-03-11 23:28:35</td>\n",
       "      <td>Residential Building/House</td>\n",
       "      <td>11215</td>\n",
       "      <td>BROOKLYN</td>\n",
       "      <td>BROOKLYN</td>\n",
       "      <td>40.673126</td>\n",
       "      <td>-73.982238</td>\n",
       "      <td>00:02:24</td>\n",
       "    </tr>\n",
       "  </tbody>\n",
       "</table>\n",
       "</div>"
      ],
      "text/plain": [
       "             Created_Date         Closed_Date               Location_Type  \\\n",
       "28022 2016-03-11 23:26:11 2016-03-11 23:28:35  Residential Building/House   \n",
       "\n",
       "       Incident_Zip Neighborhood   Borough   Latitude  Longitude Reaction_Time  \n",
       "28022         11215     BROOKLYN  BROOKLYN  40.673126 -73.982238      00:02:24  "
      ]
     },
     "execution_count": 14,
     "metadata": {},
     "output_type": "execute_result"
    }
   ],
   "source": [
    "data[data.Reaction_Time == data.Reaction_Time.min()]"
   ]
  },
  {
   "cell_type": "markdown",
   "metadata": {},
   "source": [
    "Câu 6: Có bao nhiêu kiểu địa điểm (location type) trong dữ liệu? Kiểu địa điểm nào xuất hiện ít nhất trong các cuộc gọi?"
   ]
  },
  {
   "cell_type": "code",
   "execution_count": 15,
   "metadata": {},
   "outputs": [
    {
     "data": {
      "text/plain": [
       "6"
      ]
     },
     "execution_count": 15,
     "metadata": {},
     "output_type": "execute_result"
    }
   ],
   "source": [
    "data.Location_Type.nunique()"
   ]
  },
  {
   "cell_type": "code",
   "execution_count": 16,
   "metadata": {},
   "outputs": [
    {
     "data": {
      "text/plain": [
       "Location_Type\n",
       "House of Worship                 598\n",
       "Park/Playground                 2957\n",
       "Club/Bar/Restaurant            15722\n",
       "Store/Commercial               17508\n",
       "Street/Sidewalk                41726\n",
       "Residential Building/House    145350\n",
       "Name: Created_Date, dtype: int64"
      ]
     },
     "execution_count": 16,
     "metadata": {},
     "output_type": "execute_result"
    }
   ],
   "source": [
    "data.groupby('Location_Type').count().Created_Date.sort_values()#.head(1)"
   ]
  },
  {
   "cell_type": "markdown",
   "metadata": {},
   "source": [
    "Câu 7: Tính thời gian phản ứng trung bình của cảnh sát cho mỗi kiểu địa điểm.\n",
    "\n",
    "Kiểu địa điểm nào thường nhận được phản ứng nhanh nhất từ cảnh sát?"
   ]
  },
  {
   "cell_type": "code",
   "execution_count": 17,
   "metadata": {
    "scrolled": true
   },
   "outputs": [
    {
     "data": {
      "text/plain": [
       "Location_Type\n",
       "Store/Commercial             03:43:35.211217\n",
       "Club/Bar/Restaurant          03:44:58.610482\n",
       "House of Worship             03:50:19.167224\n",
       "Residential Building/House   05:00:53.608957\n",
       "Park/Playground              05:06:49.890767\n",
       "Street/Sidewalk              05:52:49.126443\n",
       "Name: Numeric_RTime, dtype: timedelta64[ns]"
      ]
     },
     "execution_count": 17,
     "metadata": {},
     "output_type": "execute_result"
    }
   ],
   "source": [
    "# Cách 1: Thêm cột dữ liệu chuyển timedelta sang numeric\n",
    "data2 = data.assign(Numeric_RTime = pd.to_numeric(data.Reaction_Time))\n",
    "pd.to_timedelta(data2.groupby('Location_Type').Numeric_RTime.mean()).sort_values()#.head(1)"
   ]
  },
  {
   "cell_type": "code",
   "execution_count": 18,
   "metadata": {},
   "outputs": [
    {
     "data": {
      "text/plain": [
       "array(['Store/Commercial', 'Residential Building/House',\n",
       "       'Club/Bar/Restaurant', 'Street/Sidewalk', 'Park/Playground',\n",
       "       'House of Worship'], dtype=object)"
      ]
     },
     "execution_count": 18,
     "metadata": {},
     "output_type": "execute_result"
    }
   ],
   "source": [
    "# Cách 2: Tính theo từng kiểu địa điểm\n",
    "locations = data.Location_Type.unique()\n",
    "locations"
   ]
  },
  {
   "cell_type": "code",
   "execution_count": 19,
   "metadata": {},
   "outputs": [
    {
     "data": {
      "text/html": [
       "<div>\n",
       "<style scoped>\n",
       "    .dataframe tbody tr th:only-of-type {\n",
       "        vertical-align: middle;\n",
       "    }\n",
       "\n",
       "    .dataframe tbody tr th {\n",
       "        vertical-align: top;\n",
       "    }\n",
       "\n",
       "    .dataframe thead th {\n",
       "        text-align: right;\n",
       "    }\n",
       "</style>\n",
       "<table border=\"1\" class=\"dataframe\">\n",
       "  <thead>\n",
       "    <tr style=\"text-align: right;\">\n",
       "      <th></th>\n",
       "      <th>loc</th>\n",
       "      <th>time</th>\n",
       "    </tr>\n",
       "  </thead>\n",
       "  <tbody>\n",
       "    <tr>\n",
       "      <th>0</th>\n",
       "      <td>Store/Commercial</td>\n",
       "      <td>03:43:35.211217</td>\n",
       "    </tr>\n",
       "    <tr>\n",
       "      <th>1</th>\n",
       "      <td>Residential Building/House</td>\n",
       "      <td>05:00:53.608957</td>\n",
       "    </tr>\n",
       "    <tr>\n",
       "      <th>2</th>\n",
       "      <td>Club/Bar/Restaurant</td>\n",
       "      <td>03:44:58.610482</td>\n",
       "    </tr>\n",
       "    <tr>\n",
       "      <th>3</th>\n",
       "      <td>Street/Sidewalk</td>\n",
       "      <td>05:52:49.126443</td>\n",
       "    </tr>\n",
       "    <tr>\n",
       "      <th>4</th>\n",
       "      <td>Park/Playground</td>\n",
       "      <td>05:06:49.890767</td>\n",
       "    </tr>\n",
       "    <tr>\n",
       "      <th>5</th>\n",
       "      <td>House of Worship</td>\n",
       "      <td>03:50:19.167224</td>\n",
       "    </tr>\n",
       "  </tbody>\n",
       "</table>\n",
       "</div>"
      ],
      "text/plain": [
       "                          loc            time\n",
       "0            Store/Commercial 03:43:35.211217\n",
       "1  Residential Building/House 05:00:53.608957\n",
       "2         Club/Bar/Restaurant 03:44:58.610482\n",
       "3             Street/Sidewalk 05:52:49.126443\n",
       "4             Park/Playground 05:06:49.890767\n",
       "5            House of Worship 03:50:19.167224"
      ]
     },
     "execution_count": 19,
     "metadata": {},
     "output_type": "execute_result"
    }
   ],
   "source": [
    "loctimes = {'loc':[], 'time':[]}\n",
    "for loc in locations:\n",
    "    loctime = data[data.Location_Type==loc].Reaction_Time.mean()\n",
    "    #print(loc, ':', loctime)\n",
    "    loctimes['loc'].append(loc)\n",
    "    loctimes['time'].append(loctime)\n",
    "loctimes_df = pd.DataFrame(loctimes)\n",
    "loctimes_df"
   ]
  },
  {
   "cell_type": "code",
   "execution_count": 20,
   "metadata": {},
   "outputs": [
    {
     "data": {
      "text/html": [
       "<div>\n",
       "<style scoped>\n",
       "    .dataframe tbody tr th:only-of-type {\n",
       "        vertical-align: middle;\n",
       "    }\n",
       "\n",
       "    .dataframe tbody tr th {\n",
       "        vertical-align: top;\n",
       "    }\n",
       "\n",
       "    .dataframe thead th {\n",
       "        text-align: right;\n",
       "    }\n",
       "</style>\n",
       "<table border=\"1\" class=\"dataframe\">\n",
       "  <thead>\n",
       "    <tr style=\"text-align: right;\">\n",
       "      <th></th>\n",
       "      <th>loc</th>\n",
       "      <th>time</th>\n",
       "    </tr>\n",
       "  </thead>\n",
       "  <tbody>\n",
       "    <tr>\n",
       "      <th>0</th>\n",
       "      <td>Store/Commercial</td>\n",
       "      <td>03:43:35.211217</td>\n",
       "    </tr>\n",
       "  </tbody>\n",
       "</table>\n",
       "</div>"
      ],
      "text/plain": [
       "                loc            time\n",
       "0  Store/Commercial 03:43:35.211217"
      ]
     },
     "execution_count": 20,
     "metadata": {},
     "output_type": "execute_result"
    }
   ],
   "source": [
    "loctimes_df[loctimes_df.time == loctimes_df.time.min()]"
   ]
  },
  {
   "cell_type": "markdown",
   "metadata": {},
   "source": [
    "Câu 8: Quận nào có nhiều cuộc gọi đến từ kiểu địa điểm \"Residential Building/House\" nhất?  \n",
    "Đếm số cuộc gọi của các kiểu địa điểm ở quận đó (vd 1000 cuộc gọi từ Residential Building/House, 1200 từ Store/Commercial)."
   ]
  },
  {
   "cell_type": "code",
   "execution_count": 21,
   "metadata": {},
   "outputs": [
    {
     "data": {
      "text/plain": [
       "Borough\n",
       "BROOKLYN         44581\n",
       "BRONX            35828\n",
       "MANHATTAN        31793\n",
       "QUEENS           28922\n",
       "STATEN ISLAND     4226\n",
       "Name: Created_Date, dtype: int64"
      ]
     },
     "execution_count": 21,
     "metadata": {},
     "output_type": "execute_result"
    }
   ],
   "source": [
    "data[data.Location_Type=='Residential Building/House'].groupby('Borough').count().Created_Date.sort_values(ascending=False)#.head(1)"
   ]
  },
  {
   "cell_type": "code",
   "execution_count": 22,
   "metadata": {},
   "outputs": [
    {
     "data": {
      "text/plain": [
       "Location_Type\n",
       "Club/Bar/Restaurant            5175\n",
       "House of Worship                290\n",
       "Park/Playground                1038\n",
       "Residential Building/House    44581\n",
       "Store/Commercial               6463\n",
       "Street/Sidewalk               11210\n",
       "Name: Created_Date, dtype: int64"
      ]
     },
     "execution_count": 22,
     "metadata": {},
     "output_type": "execute_result"
    }
   ],
   "source": [
    "data[data.Borough=='BROOKLYN'].groupby('Location_Type').count().Created_Date"
   ]
  }
 ],
 "metadata": {
  "kernelspec": {
   "display_name": "Python 3",
   "language": "python",
   "name": "python3"
  },
  "language_info": {
   "codemirror_mode": {
    "name": "ipython",
    "version": 3
   },
   "file_extension": ".py",
   "mimetype": "text/x-python",
   "name": "python",
   "nbconvert_exporter": "python",
   "pygments_lexer": "ipython3",
   "version": "3.7.6"
  }
 },
 "nbformat": 4,
 "nbformat_minor": 4
}
